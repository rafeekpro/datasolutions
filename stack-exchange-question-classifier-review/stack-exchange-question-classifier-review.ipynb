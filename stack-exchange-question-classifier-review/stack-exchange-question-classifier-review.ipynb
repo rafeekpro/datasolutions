{
 "cells": [
  {
   "cell_type": "markdown",
   "id": "28854ab8",
   "metadata": {},
   "source": [
    "Sulution from https://datumguy.wordpress.com/2017/08/14/hackerranks-stack-exchange-question-classifier-review/"
   ]
  },
  {
   "cell_type": "code",
   "execution_count": 1,
   "id": "e084b439",
   "metadata": {},
   "outputs": [],
   "source": [
    "import json\n",
    "from nltk.corpus import stopwords\n",
    "from nltk.stem import LancasterStemmer\n",
    "import random\n",
    "import re\n",
    "import string"
   ]
  },
  {
   "cell_type": "code",
   "execution_count": 2,
   "id": "639c2b4d",
   "metadata": {},
   "outputs": [
    {
     "data": {
      "text/plain": [
       "<bound method Downloader.download of <nltk.downloader.Downloader object at 0x7f6c8f47d7c0>>"
      ]
     },
     "execution_count": 2,
     "metadata": {},
     "output_type": "execute_result"
    }
   ],
   "source": [
    "import nltk\n",
    "nltk.download"
   ]
  },
  {
   "cell_type": "code",
   "execution_count": 3,
   "id": "ccac2b51",
   "metadata": {},
   "outputs": [],
   "source": [
    "class TFIDFreqClasifier:\n",
    "    def __init__(self):\n",
    "        self.stemmer = LancasterStemmer()\n",
    "        self.label_freq = {}\n",
    "        self.corpus = {}\n",
    "        self.vocabulary = {}\n",
    "        self.vocabulary_count = {}\n",
    "        self.label_probability = {}\n",
    "\n",
    "        self.punctuation_regex = re.compile('[{0}]'.format(re.escape(string.punctuation)))\n",
    "        # !\"#$%&'()*+, -./:;<=>?@[\\]^_`{|}~\n",
    "    \n",
    "    stemmer = LancasterStemmer()\n",
    "    punctuation_regex = re.compile('[{0}]'.format(re.escape(string.punctuation)))\n",
    " \n",
    "    def compute_doc_label_probability(self, label, doc):\n",
    "        probability = self.label_probability[label]\n",
    "        for term in doc.split():\n",
    "            probability *= (self.vocabulary[label][term] if term in self.vocabulary[label] else 0) + 1\n",
    "            probability /= self.vocabulary_count[label] + len(self.vocabulary[label])\n",
    "        return probability\n",
    " \n",
    "    def pre_process(self, doc):\n",
    "        pre_processed_doc = ''\n",
    "        for term in doc.lower().split():\n",
    "            term = self.punctuation_regex.sub('', term)\n",
    "            if term and term not in stopwords.words('english'):\n",
    "                pre_processed_doc += self.stemmer.stem(term) + ' '\n",
    "        return pre_processed_doc.rstrip()\n",
    " \n",
    "    def classify(self, doc):\n",
    "        most_probable_label = None\n",
    "        max_probability = 0\n",
    "        pre_processed_doc = self.pre_process(doc)\n",
    "        if pre_processed_doc:\n",
    "            for label in self.vocabulary.keys():\n",
    "                probability = self.compute_doc_label_probability(label, pre_processed_doc)\n",
    "                if probability > max_probability:\n",
    "                    most_probable_label = label\n",
    "                    max_probability = probability\n",
    "        return most_probable_label\n",
    "       \n",
    "        \n",
    "    def train(self, training_set):\n",
    "        label_probability_unit = 1/len(training_set)\n",
    "        for doc, label in training_set:\n",
    "            pre_processed_doc = self.pre_process(doc)\n",
    "            if pre_processed_doc:\n",
    "                # Update label probability\n",
    "                if label not in self.label_probability:\n",
    "                    self.label_probability[label] = 0\n",
    "                self.label_probability[label] += label_probability_unit\n",
    "\n",
    "                # Update terms frequency\n",
    "                for term in pre_processed_doc.split():\n",
    "                    if term not in self.corpus:\n",
    "                        self.corpus[term] = 0\n",
    "                    if label not in self.vocabulary:\n",
    "                        self.vocabulary[label] = {}\n",
    "                        self.vocabulary_count[label] = 0\n",
    "                    if term not in self.vocabulary[label]:\n",
    "                        self.vocabulary[label][term] = 0\n",
    "                    self.corpus[term] += 1\n",
    "                    self.vocabulary[label][term] += 1\n",
    "                    self.vocabulary_count[label] += 1\n",
    "\n",
    "\n",
    "    def test(self, labeled_docs):\n",
    "        matched = 0\n",
    "        for doc, expected_label in labeled_docs:\n",
    "            label = self.classify(doc)\n",
    "            if label == expected_label:\n",
    "                matched += 1\n",
    "        return matched"
   ]
  },
  {
   "cell_type": "code",
   "execution_count": null,
   "id": "651f43cf",
   "metadata": {},
   "outputs": [],
   "source": [
    "# if __name__ == '__main__':\n",
    "labeled_set = []\n",
    "with open('training.json', encoding='utf-8') as f:\n",
    "    N = int(f.readline())\n",
    "    for line in f:\n",
    "        json_obj = json.loads(line)\n",
    "        labeled_set.append((json_obj['question'] + ' ' + json_obj['excerpt'], json_obj['topic']))\n",
    "\n",
    "random.shuffle(labeled_set)\n",
    "training_portion = N//2\n",
    "training_set = labeled_set[:training_portion]\n",
    "test_set = labeled_set[training_portion:]\n",
    "\n",
    "model = TFIDFreqClasifier()\n",
    "model.train(training_set)\n",
    "matched = model.test(test_set)\n",
    "\n",
    "print('Accuracy', '{0:.2%}'.format(matched/len(test_set)))"
   ]
  },
  {
   "cell_type": "code",
   "execution_count": null,
   "id": "35a87da9",
   "metadata": {},
   "outputs": [],
   "source": []
  }
 ],
 "metadata": {
  "kernelspec": {
   "display_name": "Python 3 (ipykernel)",
   "language": "python",
   "name": "python3"
  },
  "language_info": {
   "codemirror_mode": {
    "name": "ipython",
    "version": 3
   },
   "file_extension": ".py",
   "mimetype": "text/x-python",
   "name": "python",
   "nbconvert_exporter": "python",
   "pygments_lexer": "ipython3",
   "version": "3.9.7"
  }
 },
 "nbformat": 4,
 "nbformat_minor": 5
}
