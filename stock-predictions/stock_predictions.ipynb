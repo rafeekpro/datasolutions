{
 "cells": [
  {
   "cell_type": "code",
   "execution_count": 1,
   "id": "e29b18b4",
   "metadata": {},
   "outputs": [
    {
     "name": "stdout",
     "output_type": "stream",
     "text": [
      "90 2 400\n",
      "iStreet 10 4.54 5.53 6.56 5.54 7.60\n",
      "HR 0 30.54 27.53 24.42 20.11 17.50\n",
      "1\n",
      "iStreet SELL 10\n"
     ]
    }
   ],
   "source": [
    "import numpy as np\n",
    " \n",
    "alpha = 2 / 6\n",
    "exp = np.array([alpha * (1 - alpha) ** (5 - i) for i in range(1, 6)]) + (1 - alpha) ** 5 / 5\n",
    " \n",
    "def printTransactions(m, k, d, name, owned, prices):\n",
    "    max_f = None\n",
    "    min_f = None\n",
    " \n",
    "    for i in range(k):\n",
    "        f = getCEMA(prices[i]) - np.mean(prices[i])\n",
    "        if owned[i] > 0 and f > 0 and (max_f is None or f > max_f[0]):\n",
    "            max_f = (f, '{0} SELL {1}'.format(name[i], owned[i]))\n",
    "        elif m > prices[i][-1] and d > 0 and f > 0 and (min_f is None or f < min_f[0]):\n",
    "            min_f = (f, '{0} BUY {1}'.format(name[i], int(m / prices[i][-1])))\n",
    " \n",
    "    if max_f is not None and min_f is not None:\n",
    "        print(2)\n",
    "    elif max_f is not None or min_f is not None:\n",
    "        print(1)\n",
    "    else:\n",
    "        print(0)\n",
    " \n",
    "    if max_f is not None:\n",
    "        print(max_f[1])\n",
    "    if min_f is not None:\n",
    "        print(min_f[1])\n",
    " \n",
    "def getCEMA(a):\n",
    "    return np.dot(exp, a)\n",
    " \n",
    "def readInputAndRun():\n",
    "    line = input().split()\n",
    "    m, k, d = float(line[0]), int(line[1]), int(line[2])\n",
    "    name = []\n",
    "    owned = []\n",
    "    prices = []\n",
    "    for i in range(k):\n",
    "        line = input().split()\n",
    "        name.append(line[0])\n",
    "        owned.append(int(line[1]))\n",
    "        prices.append(list(map(float, line[2:])))\n",
    "    printTransactions(m, k, d, name, owned, prices)\n",
    " \n",
    "readInputAndRun()"
   ]
  },
  {
   "cell_type": "code",
   "execution_count": null,
   "id": "51c69480",
   "metadata": {},
   "outputs": [],
   "source": []
  }
 ],
 "metadata": {
  "kernelspec": {
   "display_name": "Python 3 (ipykernel)",
   "language": "python",
   "name": "python3"
  },
  "language_info": {
   "codemirror_mode": {
    "name": "ipython",
    "version": 3
   },
   "file_extension": ".py",
   "mimetype": "text/x-python",
   "name": "python",
   "nbconvert_exporter": "python",
   "pygments_lexer": "ipython3",
   "version": "3.9.7"
  }
 },
 "nbformat": 4,
 "nbformat_minor": 5
}
